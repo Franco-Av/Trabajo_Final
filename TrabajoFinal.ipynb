{
 "cells": [
  {
   "cell_type": "code",
   "execution_count": 1,
   "id": "09645591",
   "metadata": {},
   "outputs": [],
   "source": [
    "from bs4 import BeautifulSoup\n",
    "import requests\n",
    "import pandas as pd\n",
    "import openpyxl\n",
    "from openpyxl import load_workbook"
   ]
  },
  {
   "cell_type": "code",
   "execution_count": 2,
   "id": "ddb16f6e",
   "metadata": {},
   "outputs": [],
   "source": [
    "#leemos los datos qe se encuentran en el excel y asignamos la hoja \"C1 Milagros\"\n",
    "datos = pd.read_excel(\"02 CH Genes ordenados con vecinos.xlsx\", sheet_name='C1 Milagros')\n",
    "valores = datos[\"Unnamed: 4\"].values #asignamos los valores de los genes\n",
    "lista1 = valores.tolist() #hacemos una lista\n",
    "lista1.pop(0) #eliminamos la primera variable\n",
    "del lista1[-11:] #eliminamos las 11 ultimas ya que no son genes\n",
    "\n",
    "#hacemos lo mismo que el primero pero en este caso usaremos la hoja \"C4 Jerica\"\n",
    "datos2 = pd.read_excel(\"02 CH Genes ordenados con vecinos.xlsx\", sheet_name='C4 Jerica')\n",
    "valores = datos2[\"Unnamed: 4\"].values\n",
    "lista2 = valores.tolist()\n",
    "lista2.pop(0)\n",
    "del lista2[-16:] #en este caso teniamos que eliminar las 16 ultimas"
   ]
  },
  {
   "cell_type": "code",
   "execution_count": 5,
   "id": "c4dc3649",
   "metadata": {},
   "outputs": [],
   "source": [
    "df = pd.DataFrame({'GEN ABREV': lista1}) #creamos un data frame con los genes de la lista1\n",
    "archivo11 = load_workbook(\"TablaGen.xlsx\") #insertamos los valores en un excel vacio\n",
    "ws=archivo11['Hoja1'] #asignamos la hoja que vamos a utilisar\n",
    "\n",
    "#guardamos los datos del archivo11 en el excel que vamos a llenar\n",
    "for index, row in df.iterrows(): \n",
    "    cell = 'B%d'  % (index + 3)\n",
    "    ws[cell] = row[0]\n",
    "archivo11.save(\"TablaGen.xlsx\")\n",
    "\n",
    "#hacemos lo mismo que el anterior pero esta vez usaremos los datos de la lista2 \n",
    "#agregandolos en una hoja diferente, que en este caso seria la hoja2\n",
    "df2 = pd.DataFrame({'GEN ABREV': lista2})\n",
    "archivo22 = load_workbook(\"TablaGen.xlsx\")\n",
    "ws2=archivo22['Hoja2']\n",
    "for index, row in df2.iterrows():\n",
    "    cell = 'B%d'  % (index + 3)\n",
    "    ws2[cell] = row[0]\n",
    "archivo22.save(\"TablaGen.xlsx\")"
   ]
  }
 ],
 "metadata": {
  "colab": {
   "collapsed_sections": [],
   "name": "TRABAJO FINAL LP2 (1).ipynb",
   "provenance": []
  },
  "kernelspec": {
   "display_name": "Python 3",
   "language": "python",
   "name": "python3"
  },
  "language_info": {
   "codemirror_mode": {
    "name": "ipython",
    "version": 3
   },
   "file_extension": ".py",
   "mimetype": "text/x-python",
   "name": "python",
   "nbconvert_exporter": "python",
   "pygments_lexer": "ipython3",
   "version": "3.8.8"
  }
 },
 "nbformat": 4,
 "nbformat_minor": 5
}
